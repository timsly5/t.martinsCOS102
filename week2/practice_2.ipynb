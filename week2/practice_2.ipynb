{
 "cells": [
  {
   "cell_type": "code",
   "id": "initial_id",
   "metadata": {
    "collapsed": true,
    "ExecuteTime": {
     "end_time": "2025-03-21T20:18:17.625459Z",
     "start_time": "2025-03-21T20:18:13.673840Z"
    }
   },
   "source": [
    "#input from user\n",
    "m= float(input(\"Enter mass in kilograms: \"))\n",
    "\n",
    "#constant value for the speed of light in m/s\n",
    "c = 299792458\n",
    "\n",
    "#calculating energy using einsteins's equation\n",
    "energy = m * c ** 2\n",
    "\n",
    "#displaying the result\n",
    "print(\"The energy equivalent to {m}kg of mass is {energy} joules. \", m, energy)"
   ],
   "outputs": [
    {
     "name": "stdout",
     "output_type": "stream",
     "text": [
      "The energy equivalent to {m}kg of mass is {energy} joules.  250.0 2.246887946842044e+19\n"
     ]
    }
   ],
   "execution_count": 3
  },
  {
   "metadata": {},
   "cell_type": "code",
   "outputs": [],
   "execution_count": null,
   "source": "",
   "id": "e6d0f1221e0a8f8a"
  }
 ],
 "metadata": {
  "kernelspec": {
   "display_name": "Python 3",
   "language": "python",
   "name": "python3"
  },
  "language_info": {
   "codemirror_mode": {
    "name": "ipython",
    "version": 2
   },
   "file_extension": ".py",
   "mimetype": "text/x-python",
   "name": "python",
   "nbconvert_exporter": "python",
   "pygments_lexer": "ipython2",
   "version": "2.7.6"
  }
 },
 "nbformat": 4,
 "nbformat_minor": 5
}
