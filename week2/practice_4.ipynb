{
 "cells": [
  {
   "cell_type": "code",
   "id": "initial_id",
   "metadata": {
    "collapsed": true,
    "ExecuteTime": {
     "end_time": "2025-03-21T20:37:00.291528Z",
     "start_time": "2025-03-21T20:37:00.281422Z"
    }
   },
   "source": [
    "tuple = ('Ekiti', 750, 'oshogbo', 250, 'akure', 500)\n",
    "s_tuple = ('abeokuta', 300, 'ogbomoso')\n",
    "\n",
    "print(tuple)\n",
    "print(tuple[-1])\n",
    "print(tuple[2:4])\n",
    "print(tuple[2:])\n",
    "print(s_tuple * 2)\n",
    "print(tuple + s_tuple)"
   ],
   "outputs": [
    {
     "name": "stdout",
     "output_type": "stream",
     "text": [
      "('Ekiti', 750, 'oshogbo', 250, 'akure', 500)\n",
      "500\n",
      "('oshogbo', 250)\n",
      "('oshogbo', 250, 'akure', 500)\n",
      "('abeokuta', 300, 'ogbomoso', 'abeokuta', 300, 'ogbomoso')\n",
      "('Ekiti', 750, 'oshogbo', 250, 'akure', 500, 'abeokuta', 300, 'ogbomoso')\n"
     ]
    }
   ],
   "execution_count": 2
  },
  {
   "metadata": {},
   "cell_type": "code",
   "outputs": [],
   "execution_count": null,
   "source": "",
   "id": "1f6e9f9d12f31033"
  }
 ],
 "metadata": {
  "kernelspec": {
   "display_name": "Python 3",
   "language": "python",
   "name": "python3"
  },
  "language_info": {
   "codemirror_mode": {
    "name": "ipython",
    "version": 2
   },
   "file_extension": ".py",
   "mimetype": "text/x-python",
   "name": "python",
   "nbconvert_exporter": "python",
   "pygments_lexer": "ipython2",
   "version": "2.7.6"
  }
 },
 "nbformat": 4,
 "nbformat_minor": 5
}
