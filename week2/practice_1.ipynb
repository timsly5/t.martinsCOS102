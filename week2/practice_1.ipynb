{
 "cells": [
  {
   "metadata": {
    "ExecuteTime": {
     "end_time": "2025-03-21T19:56:57.323130Z",
     "start_time": "2025-03-21T19:56:41.127836Z"
    }
   },
   "cell_type": "code",
   "source": [
    "str = input(\"Enter state of origin: \")\n",
    "\n",
    "print(\"Your state of origin is: \", str)\n",
    "print(\"The first character is: \", str[0])\n",
    "print(\"The characters starting from 3rd to 5th: \", str[2:5])\n",
    "print(\"The string starting from 3rd character is: \", str[2:])\n",
    "print(\"The state of origin two times: \", str *2)"
   ],
   "id": "abbc63d4a58f1659",
   "outputs": [
    {
     "name": "stdout",
     "output_type": "stream",
     "text": [
      "Your state of origin is:  delta\n",
      "The first character is:  d\n",
      "The characters starting from 3rd to 5th:  lta\n",
      "The string starting from 3rd character is:  lta\n",
      "The state of origin two times:  deltadelta\n"
     ]
    }
   ],
   "execution_count": 1
  },
  {
   "metadata": {},
   "cell_type": "code",
   "outputs": [],
   "execution_count": null,
   "source": "",
   "id": "3625b6942effff2d"
  }
 ],
 "metadata": {
  "kernelspec": {
   "name": "python3",
   "language": "python",
   "display_name": "Python 3 (ipykernel)"
  }
 },
 "nbformat": 5,
 "nbformat_minor": 9
}
